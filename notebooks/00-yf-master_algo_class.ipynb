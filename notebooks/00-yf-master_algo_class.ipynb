{
 "cells": [
  {
   "cell_type": "code",
   "execution_count": 60,
   "metadata": {},
   "outputs": [],
   "source": [
    "import pandas as pd\n",
    "\n",
    "from copy import deepcopy\n",
    "from abc import abstractmethod\n",
    "\n",
    "from numba import njit\n",
    "from numba import int32, float32    # import the types\n",
    "from numba.experimental import jitclass\n",
    "\n",
    "spec = [\n",
    "    ('value', int32),               # a simple scalar field\n",
    "    ('array', float32[:]),          # an array field\n",
    "]"
   ]
  },
  {
   "cell_type": "markdown",
   "metadata": {},
   "source": [
    "# Master algo"
   ]
  },
  {
   "cell_type": "code",
   "execution_count": 62,
   "metadata": {},
   "outputs": [
    {
     "ename": "TypeError",
     "evalue": "class members are not yet supported: __init__, launch_collab, get_partitions_except_p",
     "output_type": "error",
     "traceback": [
      "\u001b[0;31m---------------------------------------------------------------------------\u001b[0m",
      "\u001b[0;31mTypeError\u001b[0m                                 Traceback (most recent call last)",
      "\u001b[0;32m<ipython-input-62-b2fa3368602c>\u001b[0m in \u001b[0;36m<module>\u001b[0;34m\u001b[0m\n\u001b[1;32m      1\u001b[0m \u001b[0;34m@\u001b[0m\u001b[0mjitclass\u001b[0m\u001b[0;34m(\u001b[0m\u001b[0mspec\u001b[0m\u001b[0;34m)\u001b[0m\u001b[0;34m\u001b[0m\u001b[0;34m\u001b[0m\u001b[0m\n\u001b[0;32m----> 2\u001b[0;31m \u001b[0;32mclass\u001b[0m \u001b[0mMaster\u001b[0m\u001b[0;34m(\u001b[0m\u001b[0mobject\u001b[0m\u001b[0;34m)\u001b[0m\u001b[0;34m:\u001b[0m\u001b[0;34m\u001b[0m\u001b[0;34m\u001b[0m\u001b[0m\n\u001b[0m\u001b[1;32m      3\u001b[0m     \"\"\"\n\u001b[1;32m      4\u001b[0m     \u001b[0mMaster\u001b[0m \u001b[0malgorithm\u001b[0m \u001b[0mmanaging\u001b[0m \u001b[0mthe\u001b[0m \u001b[0mcollaboration\u001b[0m \u001b[0mbetween\u001b[0m \u001b[0mthe\u001b[0m \u001b[0mlocal\u001b[0m \u001b[0mdata\u001b[0m \u001b[0msites\u001b[0m\u001b[0;34m\u001b[0m\u001b[0;34m\u001b[0m\u001b[0m\n\u001b[1;32m      5\u001b[0m     \"\"\"\n",
      "\u001b[0;32m~/.virtualenvs/ijcnn21/lib/python3.8/site-packages/numba/experimental/jitclass/decorators.py\u001b[0m in \u001b[0;36mwrap\u001b[0;34m(cls)\u001b[0m\n\u001b[1;32m     74\u001b[0m             \u001b[0;32mreturn\u001b[0m \u001b[0mcls\u001b[0m\u001b[0;34m\u001b[0m\u001b[0;34m\u001b[0m\u001b[0m\n\u001b[1;32m     75\u001b[0m         \u001b[0;32melse\u001b[0m\u001b[0;34m:\u001b[0m\u001b[0;34m\u001b[0m\u001b[0;34m\u001b[0m\u001b[0m\n\u001b[0;32m---> 76\u001b[0;31m             \u001b[0;32mreturn\u001b[0m \u001b[0mregister_class_type\u001b[0m\u001b[0;34m(\u001b[0m\u001b[0mcls\u001b[0m\u001b[0;34m,\u001b[0m \u001b[0mspec\u001b[0m\u001b[0;34m,\u001b[0m \u001b[0mtypes\u001b[0m\u001b[0;34m.\u001b[0m\u001b[0mClassType\u001b[0m\u001b[0;34m,\u001b[0m \u001b[0mClassBuilder\u001b[0m\u001b[0;34m)\u001b[0m\u001b[0;34m\u001b[0m\u001b[0;34m\u001b[0m\u001b[0m\n\u001b[0m\u001b[1;32m     77\u001b[0m \u001b[0;34m\u001b[0m\u001b[0m\n\u001b[1;32m     78\u001b[0m     \u001b[0;32mif\u001b[0m \u001b[0mcls_or_spec\u001b[0m \u001b[0;32mis\u001b[0m \u001b[0;32mNone\u001b[0m\u001b[0;34m:\u001b[0m\u001b[0;34m\u001b[0m\u001b[0;34m\u001b[0m\u001b[0m\n",
      "\u001b[0;32m~/.virtualenvs/ijcnn21/lib/python3.8/site-packages/numba/experimental/jitclass/base.py\u001b[0m in \u001b[0;36mregister_class_type\u001b[0;34m(cls, spec, class_ctor, builder)\u001b[0m\n\u001b[1;32m    209\u001b[0m         \u001b[0mmsg\u001b[0m \u001b[0;34m=\u001b[0m \u001b[0;34m\"class members are not yet supported: {0}\"\u001b[0m\u001b[0;34m\u001b[0m\u001b[0;34m\u001b[0m\u001b[0m\n\u001b[1;32m    210\u001b[0m         \u001b[0mmembers\u001b[0m \u001b[0;34m=\u001b[0m \u001b[0;34m', '\u001b[0m\u001b[0;34m.\u001b[0m\u001b[0mjoin\u001b[0m\u001b[0;34m(\u001b[0m\u001b[0mothers\u001b[0m\u001b[0;34m.\u001b[0m\u001b[0mkeys\u001b[0m\u001b[0;34m(\u001b[0m\u001b[0;34m)\u001b[0m\u001b[0;34m)\u001b[0m\u001b[0;34m\u001b[0m\u001b[0;34m\u001b[0m\u001b[0m\n\u001b[0;32m--> 211\u001b[0;31m         \u001b[0;32mraise\u001b[0m \u001b[0mTypeError\u001b[0m\u001b[0;34m(\u001b[0m\u001b[0mmsg\u001b[0m\u001b[0;34m.\u001b[0m\u001b[0mformat\u001b[0m\u001b[0;34m(\u001b[0m\u001b[0mmembers\u001b[0m\u001b[0;34m)\u001b[0m\u001b[0;34m)\u001b[0m\u001b[0;34m\u001b[0m\u001b[0;34m\u001b[0m\u001b[0m\n\u001b[0m\u001b[1;32m    212\u001b[0m \u001b[0;34m\u001b[0m\u001b[0m\n\u001b[1;32m    213\u001b[0m     \u001b[0;32mfor\u001b[0m \u001b[0mk\u001b[0m\u001b[0;34m,\u001b[0m \u001b[0mv\u001b[0m \u001b[0;32min\u001b[0m \u001b[0mprops\u001b[0m\u001b[0;34m.\u001b[0m\u001b[0mitems\u001b[0m\u001b[0;34m(\u001b[0m\u001b[0;34m)\u001b[0m\u001b[0;34m:\u001b[0m\u001b[0;34m\u001b[0m\u001b[0;34m\u001b[0m\u001b[0m\n",
      "\u001b[0;31mTypeError\u001b[0m: class members are not yet supported: __init__, launch_collab, get_partitions_except_p"
     ]
    }
   ],
   "source": [
    "@jitclass(spec)\n",
    "class Master(object):\n",
    "    \"\"\"\n",
    "    Master algorithm managing the collaboration between the local data sites\n",
    "    \"\"\"\n",
    "    \n",
    "    @njit\n",
    "    def __init__(self, collabs=None, Xs=None, Ys=None, max_iter=0, *args, **kwargs):\n",
    "        \"\"\"\n",
    "        Parameters:\n",
    "        collabs: list(Collaborator)\n",
    "            List of instances of type \"Collaborator\".\n",
    "        X: list(pandas.DataFrame)\n",
    "            List of dataframes with same size than collabs.\n",
    "            The view of each collaborators, with acces to possibly different\n",
    "            set of individuals (identified by the index column).\n",
    "        Y (optional): list(pandas.DataFrame)\n",
    "            List of dataframes, one for each collaborator. With the indices and the labels.\n",
    "        max_iter (optional): int\n",
    "            Maximum number of iterations in the collaborative step\n",
    "            \n",
    "        notes:\n",
    "        02/02 14:16 - Xs and Ys are not necessary parameters, as we can get them from each collab.\n",
    "                      Consider removing them.\n",
    "        \"\"\"\n",
    "        if collabs:\n",
    "            self.collabs, self.P = collabs, len(collabs)\n",
    "            \n",
    "        if X:\n",
    "            self.X = X\n",
    "            \n",
    "        if Y:\n",
    "            self.Y = Y\n",
    "        \n",
    "        self.max_iter = max_iter\n",
    "        # create a log that will contain information about each step of the process\n",
    "        self.log = []\n",
    "        \n",
    "    @njit\n",
    "    def launch_collab(self):\n",
    "        \"\"\"\n",
    "        Proceed to the collaboration.\n",
    "        \n",
    "        \"\"\"\n",
    "        \n",
    "        # each collaborator fits its parameters in the local step\n",
    "        to_log = []\n",
    "        for collab in self.collabs:\n",
    "            collab.local_step()\n",
    "            to_log.append(deepcopy(collab.log_local()))\n",
    "        # log\n",
    "        self.log.append(deepcopy(to_log))\n",
    "        \n",
    "        n_iter=0\n",
    "        while True:\n",
    "            stop, to_log = True, []\n",
    "            \n",
    "            # each data site is in turn considered as the local data site\n",
    "            for p, collab in collabs:\n",
    "                # it is provided with every remote partition matrix\n",
    "                remote_partitions = self.get_partitions_except_p(p)\n",
    "                collab.collaborate(remote_partitions)\n",
    "                to_log.append(deepcopy(collab.log_collab()))\n",
    "                if not collab.stop_criterion():\n",
    "                    stop = False\n",
    "            \n",
    "            # log the results\n",
    "            self.log.append(deepcopy(to_log))\n",
    "            \n",
    "            # should we stop ?\n",
    "            if stop:\n",
    "                break\n",
    "            # if stop==True, then a collaboration occured, add 1 to counter\n",
    "            n_iter += 1\n",
    "            \n",
    "            if n_iter == self.max_iter:\n",
    "                break\n",
    "            \n",
    "    \n",
    "    @njit\n",
    "    def get_partitions_except_p(self, p):\n",
    "        \"\"\"\n",
    "        Get all partition matrices except number p.\n",
    "        This is used to get every remote partition matrix when p is the local data site.\n",
    "        \n",
    "        Parameters:\n",
    "            p: int\n",
    "                id of the partition matrix to ignore.\n",
    "        \"\"\"\n",
    "        \n",
    "        res = []\n",
    "        for i, collab in self.collabs:\n",
    "            if i != p:\n",
    "                res.append(deepcopy(collabs[i].get_partition_matrix()))\n",
    "        return res\n",
    "    \n",
    "    "
   ]
  },
  {
   "cell_type": "markdown",
   "metadata": {},
   "source": [
    "# collaborator"
   ]
  },
  {
   "cell_type": "code",
   "execution_count": 58,
   "metadata": {},
   "outputs": [],
   "source": [
    "class Collaborator:\n",
    "    \"\"\"\n",
    "    An abstract class representing a collaborator.\n",
    "    Collaborators can be of different types (running with different algorithms)\n",
    "    e.g. Gtms, gaussian mixture models, other mixture models, or any kind of probabilistic model.\n",
    "    \"\"\"\n",
    "    \n",
    "    def __init__(self, X, Y=None, K=3, *args, **kwargs):\n",
    "        \"\"\"\n",
    "        Parameters:\n",
    "            X: pandas.DataFrame\n",
    "                dataframe with the view of the collaborator.\n",
    "            Y: pandas.DataFrame\n",
    "                dataframe withh the labels.\n",
    "            K: int\n",
    "                number of clusters looked for.\n",
    "        \"\"\"\n",
    "        self.X = X\n",
    "        \n",
    "    @abstractmethod\n",
    "    def local_step(self):\n",
    "        pass\n",
    "    \n",
    "    @abstractmethod\n",
    "    def log_local(self):\n",
    "        pass\n",
    "    \n",
    "    @abstractmethod\n",
    "    def collaborate(self):\n",
    "        pass\n",
    "    \n",
    "    @abstractmethod\n",
    "    def log_collab(self):\n",
    "        pass\n",
    "    \n",
    "    def get_partition_matrix(self):\n",
    "        return self.R"
   ]
  },
  {
   "cell_type": "code",
   "execution_count": null,
   "metadata": {},
   "outputs": [],
   "source": [
    "def Collaborator_gmm(Collaborator):\n",
    "    \"\"\"\n",
    "    A Gaussian mixture model based collaborator\n",
    "    \"\"\"\n",
    "    \n",
    "    def __init__(self, X, Y=None, K=3, *args, **args):\n",
    "        \"\"\"\n",
    "        Parameters:\n",
    "        X: pd.DataFrame\n",
    "            the features\n",
    "        Y (optional): pd.DataFrame\n",
    "            the labels\n",
    "        K (optional): int\n",
    "            the number of clusters\n",
    "        \"\"\"\n",
    "        \n",
    "        super().__init__(X=X, Y=Y, K=K)\n",
    "        \n",
    "    @njit\n",
    "    def local_step(self):\n",
    "        \"\"\"\n",
    "        \n",
    "        \"\"\""
   ]
  },
  {
   "cell_type": "markdown",
   "metadata": {},
   "source": [
    "# tests"
   ]
  },
  {
   "cell_type": "code",
   "execution_count": 14,
   "metadata": {},
   "outputs": [],
   "source": [
    "class A:\n",
    "    def __init__(self, a=0):\n",
    "        self.a = a\n",
    "        \n",
    "    def double_a(self):\n",
    "        try:\n",
    "            return 2*self.a\n",
    "        except:\n",
    "            print(\"no attribute a\")\n",
    "        \n",
    "class B(A):\n",
    "    def __init__(self, a=0, b=0):\n",
    "        self.a=a\n",
    "        self.b=b"
   ]
  },
  {
   "cell_type": "code",
   "execution_count": 15,
   "metadata": {},
   "outputs": [],
   "source": [
    "b = B()"
   ]
  },
  {
   "cell_type": "code",
   "execution_count": 16,
   "metadata": {},
   "outputs": [
    {
     "data": {
      "text/plain": [
       "0"
      ]
     },
     "execution_count": 16,
     "metadata": {},
     "output_type": "execute_result"
    }
   ],
   "source": [
    "b.double_a()"
   ]
  }
 ],
 "metadata": {
  "kernelspec": {
   "display_name": "ijcnn21",
   "language": "python",
   "name": "ijcnn21"
  },
  "language_info": {
   "codemirror_mode": {
    "name": "ipython",
    "version": 3
   },
   "file_extension": ".py",
   "mimetype": "text/x-python",
   "name": "python",
   "nbconvert_exporter": "python",
   "pygments_lexer": "ipython3",
   "version": "3.8.5"
  }
 },
 "nbformat": 4,
 "nbformat_minor": 4
}
