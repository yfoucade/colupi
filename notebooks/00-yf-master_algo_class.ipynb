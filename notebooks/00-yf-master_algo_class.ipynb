{
 "cells": [
  {
   "cell_type": "code",
   "execution_count": 42,
   "metadata": {},
   "outputs": [],
   "source": [
    "import pandas as pd\n",
    "\n",
    "from numba import jit, njit\n",
    "from copy import deepcopy"
   ]
  },
  {
   "cell_type": "markdown",
   "metadata": {},
   "source": [
    "# Master algo"
   ]
  },
  {
   "cell_type": "code",
   "execution_count": 43,
   "metadata": {},
   "outputs": [],
   "source": [
    "class Master:\n",
    "    \"\"\"\n",
    "    Master algorithm managing the collaboration between the local data sites\n",
    "    \"\"\"\n",
    "    \n",
    "    @njit\n",
    "    def __init__(self, collabs=None, Xs=None, Ys=None, max_iter=0, *args, **kwargs):\n",
    "        \"\"\"\n",
    "        Parameters:\n",
    "        collabs: list(Collaborator)\n",
    "            List of instances of type \"Collaborator\".\n",
    "        X: list(pandas.DataFrame)\n",
    "            List of dataframes with same size than collabs.\n",
    "            The view of each collaborators, with acces to possibly different\n",
    "            set of individuals (identified by the index column).\n",
    "        Y (optional): list(pandas.DataFrame)\n",
    "            List of dataframes, one for each collaborator. With the indices and the labels.\n",
    "        max_iter (optional): int\n",
    "            Maximum number of iterations in the collaborative step\n",
    "            \n",
    "        notes:\n",
    "        02/02 14:16 - Xs and Ys are not necessary parameters, as we can get them from each collab.\n",
    "                      Consider removing them.\n",
    "        \"\"\"\n",
    "        if collabs:\n",
    "            self.collabs, self.P = collabs, len(collabs)\n",
    "            \n",
    "        if X:\n",
    "            self.X = X\n",
    "            \n",
    "        if Y:\n",
    "            self.Y = Y\n",
    "        \n",
    "        self.max_iter = max_iter\n",
    "        # create a log that will contain information about each step of the process\n",
    "        self.log = []\n",
    "        \n",
    "    @njit\n",
    "    def launch_collab(self):\n",
    "        \"\"\"\n",
    "        Proceed to the collaboration.\n",
    "        \n",
    "        \"\"\"\n",
    "        \n",
    "        # each collaborator fits its parameters in the local step\n",
    "        to_log = []\n",
    "        for collab in self.collabs:\n",
    "            collab.local_step()\n",
    "            to_log.append(deepcopy(collab.log_local()))\n",
    "        # log\n",
    "        self.log.append(deepcopy(to_log))\n",
    "        \n",
    "        n_iter=0\n",
    "        while True:\n",
    "            stop, to_log = True, []\n",
    "            \n",
    "            # each data site is in turn considered as the local data site\n",
    "            for p, collab in collabs:\n",
    "                # it is provided with every remote partition matrix\n",
    "                remote_partitions = self.get_partitions_except_p(p)\n",
    "                collab.collaborate(remote_partitions)\n",
    "                to_log.append(deepcopy(collab.log_collab()))\n",
    "                if not collab.stop_criterion():\n",
    "                    stop = False\n",
    "            \n",
    "            # log the results\n",
    "            self.log.append(deepcopy(to_log))\n",
    "            \n",
    "            # should we stop ?\n",
    "            if stop:\n",
    "                break\n",
    "            # if stop==True, then a collaboration occured, add 1 to counter\n",
    "            n_iter += 1\n",
    "            \n",
    "            if n_iter == self.max_iter:\n",
    "                break\n",
    "            \n",
    "    \n",
    "    @njit\n",
    "    def get_partitions_except_p(self, p):\n",
    "        \"\"\"\n",
    "        Get all partition matrices except number p.\n",
    "        This is used to get every remote partition matrix when p is the local data site.\n",
    "        \n",
    "        Parameters:\n",
    "            p: int\n",
    "                id of the partition matrix to ignore.\n",
    "        \"\"\"\n",
    "        \n",
    "        res = []\n",
    "        for i, collab in self.collabs:\n",
    "            if i != p:\n",
    "                res.append(deepcopy(collabs[i].get_partition_matrix()))\n",
    "        return res\n",
    "    \n",
    "    "
   ]
  },
  {
   "cell_type": "markdown",
   "metadata": {},
   "source": [
    "# collaborator"
   ]
  },
  {
   "cell_type": "code",
   "execution_count": null,
   "metadata": {},
   "outputs": [],
   "source": [
    "class Collaborator():\n",
    "    \"\"\"\n",
    "    An abstract class representing a collaborator.\n",
    "    Collaborators can be of different types (running with different algorithms)\n",
    "    e.g. Gtms, gaussian mixture models, other mixture models, or any kind of probabilistic model.\n",
    "    \"\"\"\n",
    "    \n",
    "    def __init__(self, X, Y=None, K=3 *args, **kwargs):\n",
    "        \"\"\"\n",
    "        Parameters:\n",
    "            X: pandas.DataFrame\n",
    "                dataframe with the view of the collaborator.\n",
    "            Y: pandas.DataFrame\n",
    "                dataframe withh the labels.\n",
    "            K: int\n",
    "                number of clusters looked for.\n",
    "        \"\"\"\n",
    "        \n",
    "    "
   ]
  },
  {
   "cell_type": "markdown",
   "metadata": {},
   "source": [
    "# tests"
   ]
  },
  {
   "cell_type": "code",
   "execution_count": 14,
   "metadata": {},
   "outputs": [],
   "source": [
    "class A:\n",
    "    def __init__(self, a=0):\n",
    "        self.a = a\n",
    "        \n",
    "    def double_a(self):\n",
    "        try:\n",
    "            return 2*self.a\n",
    "        except:\n",
    "            print(\"no attribute a\")\n",
    "        \n",
    "class B(A):\n",
    "    def __init__(self, a=0, b=0):\n",
    "        self.a=a\n",
    "        self.b=b"
   ]
  },
  {
   "cell_type": "code",
   "execution_count": 15,
   "metadata": {},
   "outputs": [],
   "source": [
    "b = B()"
   ]
  },
  {
   "cell_type": "code",
   "execution_count": 16,
   "metadata": {},
   "outputs": [
    {
     "data": {
      "text/plain": [
       "0"
      ]
     },
     "execution_count": 16,
     "metadata": {},
     "output_type": "execute_result"
    }
   ],
   "source": [
    "b.double_a()"
   ]
  }
 ],
 "metadata": {
  "kernelspec": {
   "display_name": "ijcnn21",
   "language": "python",
   "name": "ijcnn21"
  },
  "language_info": {
   "codemirror_mode": {
    "name": "ipython",
    "version": 3
   },
   "file_extension": ".py",
   "mimetype": "text/x-python",
   "name": "python",
   "nbconvert_exporter": "python",
   "pygments_lexer": "ipython3",
   "version": "3.8.5"
  }
 },
 "nbformat": 4,
 "nbformat_minor": 4
}
