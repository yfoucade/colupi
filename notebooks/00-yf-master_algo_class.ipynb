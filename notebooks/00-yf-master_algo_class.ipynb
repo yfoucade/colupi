{
 "cells": [
  {
   "cell_type": "code",
   "execution_count": null,
   "metadata": {},
   "outputs": [],
   "source": [
    "import pandas as pd"
   ]
  },
  {
   "cell_type": "markdown",
   "metadata": {},
   "source": [
    "# Master algo"
   ]
  },
  {
   "cell_type": "code",
   "execution_count": null,
   "metadata": {},
   "outputs": [],
   "source": [
    "def Master:\n",
    "    \"\"\"\n",
    "    Master algorithm managing the collaboration between the local data sites\n",
    "    \"\"\"\n",
    "    \n",
    "    def __init__(self, collabs=None, Xs=None, Ys=None, *args, **kwargs):\n",
    "        \"\"\"\n",
    "        collabs: list(Collaborator)\n",
    "            List of instances of type \"Collaborator\".\n",
    "        X: list(pandas.DataFrame)\n",
    "            List of dataframes with same size than collabs.\n",
    "            The view of each collaborators, with acces to possibly different\n",
    "            set of individuals (identified by the index column).\n",
    "        Y (optional): list(pandas.DataFrame)\n",
    "            List of dataframes, one for each collaborator. With the indices and the labels.\n",
    "            \n",
    "        notes:\n",
    "        02/02 14:16 - Xs and Ys are not necessary parameters, as we can get them from each collab.\n",
    "                      Consider removing them.\n",
    "        \"\"\"\n",
    "        if collabs:\n",
    "            self.collabs, self.P = collabs, len(collabs)\n",
    "            \n",
    "        if X:\n",
    "            self.X = X\n",
    "            \n",
    "        if Y:\n",
    "            self.Y = Y\n",
    "            \n",
    "    def launch_collab(self):\n",
    "        \"\"\"\n",
    "        Proceed to the collaboration.\n",
    "        \n",
    "        \"\"\"\n",
    "        \n",
    "        # each collaborator fits its parameters in the local step\n",
    "        for collab in self.collabs:\n",
    "            collab.local_step()\n",
    "            \n",
    "        while True:\n",
    "             \n",
    "    "
   ]
  },
  {
   "cell_type": "markdown",
   "metadata": {},
   "source": [
    "# collaborator"
   ]
  },
  {
   "cell_type": "code",
   "execution_count": null,
   "metadata": {},
   "outputs": [],
   "source": [
    "class Collaborator():\n",
    "    \"\"\"\n",
    "    An abstract class representing a collaborator.\n",
    "    Collaborators can be of different types (running with different algorithms)\n",
    "    e.g. Gtms, gaussian mixture models, other mixture models, or any kind of probabilistic model.\n",
    "    \"\"\"\n",
    "    \n",
    "    def __init__(self, X, Y=None, *args, **kwargs):\n",
    "        \"\"\"\n",
    "        Parameters:\n",
    "            X: pandas.DataFrame\n",
    "                Dataframe with the data we have at our disposal\n",
    "            \n",
    "            \n",
    "        \"\"\""
   ]
  },
  {
   "cell_type": "markdown",
   "metadata": {},
   "source": [
    "# tests"
   ]
  },
  {
   "cell_type": "code",
   "execution_count": 14,
   "metadata": {},
   "outputs": [],
   "source": [
    "class A:\n",
    "    def __init__(self, a=0):\n",
    "        self.a = a\n",
    "        \n",
    "    def double_a(self):\n",
    "        try:\n",
    "            return 2*self.a\n",
    "        except:\n",
    "            print(\"no attribute a\")\n",
    "        \n",
    "class B(A):\n",
    "    def __init__(self, a=0, b=0):\n",
    "        self.a=a\n",
    "        self.b=b"
   ]
  },
  {
   "cell_type": "code",
   "execution_count": 15,
   "metadata": {},
   "outputs": [],
   "source": [
    "b = B()"
   ]
  },
  {
   "cell_type": "code",
   "execution_count": 16,
   "metadata": {},
   "outputs": [
    {
     "data": {
      "text/plain": [
       "0"
      ]
     },
     "execution_count": 16,
     "metadata": {},
     "output_type": "execute_result"
    }
   ],
   "source": [
    "b.double_a()"
   ]
  },
  {
   "cell_type": "code",
   "execution_count": null,
   "metadata": {},
   "outputs": [],
   "source": []
  }
 ],
 "metadata": {
  "kernelspec": {
   "display_name": "ijcnn21",
   "language": "python",
   "name": "ijcnn21"
  },
  "language_info": {
   "codemirror_mode": {
    "name": "ipython",
    "version": 3
   },
   "file_extension": ".py",
   "mimetype": "text/x-python",
   "name": "python",
   "nbconvert_exporter": "python",
   "pygments_lexer": "ipython3",
   "version": "3.8.5"
  }
 },
 "nbformat": 4,
 "nbformat_minor": 4
}
